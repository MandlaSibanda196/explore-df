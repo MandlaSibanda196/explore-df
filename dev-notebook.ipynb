{
 "cells": [
  {
   "cell_type": "code",
   "execution_count": 9,
   "metadata": {},
   "outputs": [
    {
     "name": "stdout",
     "output_type": "stream",
     "text": [
      "Found existing installation: explore-df 0.1.12\n",
      "Uninstalling explore-df-0.1.12:\n",
      "  Successfully uninstalled explore-df-0.1.12\n",
      "Collecting explore-df\n",
      "  Downloading explore_df-0.1.13-py3-none-any.whl.metadata (2.4 kB)\n",
      "Requirement already satisfied: streamlit>=1.44.0 in /Users/mandla/anaconda3/envs/explore-df/lib/python3.9/site-packages (from explore-df) (1.44.0)\n",
      "Requirement already satisfied: pandas>=2.0.0 in /Users/mandla/anaconda3/envs/explore-df/lib/python3.9/site-packages (from explore-df) (2.2.3)\n",
      "Requirement already satisfied: plotly>=5.14.0 in /Users/mandla/anaconda3/envs/explore-df/lib/python3.9/site-packages (from explore-df) (6.0.1)\n",
      "Requirement already satisfied: numpy>=1.24.0 in /Users/mandla/anaconda3/envs/explore-df/lib/python3.9/site-packages (from explore-df) (2.0.2)\n",
      "Requirement already satisfied: scipy>=1.10.0 in /Users/mandla/anaconda3/envs/explore-df/lib/python3.9/site-packages (from explore-df) (1.13.1)\n",
      "Requirement already satisfied: statsmodels>=0.14.0 in /Users/mandla/anaconda3/envs/explore-df/lib/python3.9/site-packages (from explore-df) (0.14.4)\n",
      "Requirement already satisfied: scikit-learn>=1.3.0 in /Users/mandla/anaconda3/envs/explore-df/lib/python3.9/site-packages (from explore-df) (1.6.1)\n",
      "Requirement already satisfied: ruptures>=1.1.7 in /Users/mandla/anaconda3/envs/explore-df/lib/python3.9/site-packages (from explore-df) (1.1.9)\n",
      "Requirement already satisfied: wordcloud>=1.9.2 in /Users/mandla/anaconda3/envs/explore-df/lib/python3.9/site-packages (from explore-df) (1.9.4)\n",
      "Requirement already satisfied: requests>=2.31.0 in /Users/mandla/anaconda3/envs/explore-df/lib/python3.9/site-packages (from explore-df) (2.32.3)\n",
      "Requirement already satisfied: matplotlib>=3.7.0 in /Users/mandla/anaconda3/envs/explore-df/lib/python3.9/site-packages (from explore-df) (3.9.4)\n",
      "Requirement already satisfied: plotly-express>=0.4.0 in /Users/mandla/anaconda3/envs/explore-df/lib/python3.9/site-packages (from explore-df) (0.4.1)\n",
      "Requirement already satisfied: contourpy>=1.0.1 in /Users/mandla/anaconda3/envs/explore-df/lib/python3.9/site-packages (from matplotlib>=3.7.0->explore-df) (1.3.0)\n",
      "Requirement already satisfied: cycler>=0.10 in /Users/mandla/anaconda3/envs/explore-df/lib/python3.9/site-packages (from matplotlib>=3.7.0->explore-df) (0.12.1)\n",
      "Requirement already satisfied: fonttools>=4.22.0 in /Users/mandla/anaconda3/envs/explore-df/lib/python3.9/site-packages (from matplotlib>=3.7.0->explore-df) (4.56.0)\n",
      "Requirement already satisfied: kiwisolver>=1.3.1 in /Users/mandla/anaconda3/envs/explore-df/lib/python3.9/site-packages (from matplotlib>=3.7.0->explore-df) (1.4.7)\n",
      "Requirement already satisfied: packaging>=20.0 in /Users/mandla/anaconda3/envs/explore-df/lib/python3.9/site-packages (from matplotlib>=3.7.0->explore-df) (24.2)\n",
      "Requirement already satisfied: pillow>=8 in /Users/mandla/anaconda3/envs/explore-df/lib/python3.9/site-packages (from matplotlib>=3.7.0->explore-df) (11.1.0)\n",
      "Requirement already satisfied: pyparsing>=2.3.1 in /Users/mandla/anaconda3/envs/explore-df/lib/python3.9/site-packages (from matplotlib>=3.7.0->explore-df) (3.2.3)\n",
      "Requirement already satisfied: python-dateutil>=2.7 in /Users/mandla/anaconda3/envs/explore-df/lib/python3.9/site-packages (from matplotlib>=3.7.0->explore-df) (2.9.0.post0)\n",
      "Requirement already satisfied: importlib-resources>=3.2.0 in /Users/mandla/anaconda3/envs/explore-df/lib/python3.9/site-packages (from matplotlib>=3.7.0->explore-df) (6.5.2)\n",
      "Requirement already satisfied: pytz>=2020.1 in /Users/mandla/anaconda3/envs/explore-df/lib/python3.9/site-packages (from pandas>=2.0.0->explore-df) (2025.2)\n",
      "Requirement already satisfied: tzdata>=2022.7 in /Users/mandla/anaconda3/envs/explore-df/lib/python3.9/site-packages (from pandas>=2.0.0->explore-df) (2025.2)\n",
      "Requirement already satisfied: narwhals>=1.15.1 in /Users/mandla/anaconda3/envs/explore-df/lib/python3.9/site-packages (from plotly>=5.14.0->explore-df) (1.32.0)\n",
      "Requirement already satisfied: patsy>=0.5 in /Users/mandla/anaconda3/envs/explore-df/lib/python3.9/site-packages (from plotly-express>=0.4.0->explore-df) (1.0.1)\n",
      "Requirement already satisfied: charset-normalizer<4,>=2 in /Users/mandla/anaconda3/envs/explore-df/lib/python3.9/site-packages (from requests>=2.31.0->explore-df) (3.4.1)\n",
      "Requirement already satisfied: idna<4,>=2.5 in /Users/mandla/anaconda3/envs/explore-df/lib/python3.9/site-packages (from requests>=2.31.0->explore-df) (3.10)\n",
      "Requirement already satisfied: urllib3<3,>=1.21.1 in /Users/mandla/anaconda3/envs/explore-df/lib/python3.9/site-packages (from requests>=2.31.0->explore-df) (2.3.0)\n",
      "Requirement already satisfied: certifi>=2017.4.17 in /Users/mandla/anaconda3/envs/explore-df/lib/python3.9/site-packages (from requests>=2.31.0->explore-df) (2025.1.31)\n",
      "Requirement already satisfied: joblib>=1.2.0 in /Users/mandla/anaconda3/envs/explore-df/lib/python3.9/site-packages (from scikit-learn>=1.3.0->explore-df) (1.4.2)\n",
      "Requirement already satisfied: threadpoolctl>=3.1.0 in /Users/mandla/anaconda3/envs/explore-df/lib/python3.9/site-packages (from scikit-learn>=1.3.0->explore-df) (3.6.0)\n",
      "Requirement already satisfied: altair<6,>=4.0 in /Users/mandla/anaconda3/envs/explore-df/lib/python3.9/site-packages (from streamlit>=1.44.0->explore-df) (5.5.0)\n",
      "Requirement already satisfied: blinker<2,>=1.0.0 in /Users/mandla/anaconda3/envs/explore-df/lib/python3.9/site-packages (from streamlit>=1.44.0->explore-df) (1.9.0)\n",
      "Requirement already satisfied: cachetools<6,>=4.0 in /Users/mandla/anaconda3/envs/explore-df/lib/python3.9/site-packages (from streamlit>=1.44.0->explore-df) (5.5.2)\n",
      "Requirement already satisfied: click<9,>=7.0 in /Users/mandla/anaconda3/envs/explore-df/lib/python3.9/site-packages (from streamlit>=1.44.0->explore-df) (8.1.8)\n",
      "Requirement already satisfied: protobuf<6,>=3.20 in /Users/mandla/anaconda3/envs/explore-df/lib/python3.9/site-packages (from streamlit>=1.44.0->explore-df) (5.29.4)\n",
      "Requirement already satisfied: pyarrow>=7.0 in /Users/mandla/anaconda3/envs/explore-df/lib/python3.9/site-packages (from streamlit>=1.44.0->explore-df) (19.0.1)\n",
      "Requirement already satisfied: tenacity<10,>=8.1.0 in /Users/mandla/anaconda3/envs/explore-df/lib/python3.9/site-packages (from streamlit>=1.44.0->explore-df) (9.0.0)\n",
      "Requirement already satisfied: toml<2,>=0.10.1 in /Users/mandla/anaconda3/envs/explore-df/lib/python3.9/site-packages (from streamlit>=1.44.0->explore-df) (0.10.2)\n",
      "Requirement already satisfied: typing-extensions<5,>=4.4.0 in /Users/mandla/anaconda3/envs/explore-df/lib/python3.9/site-packages (from streamlit>=1.44.0->explore-df) (4.12.2)\n",
      "Requirement already satisfied: gitpython!=3.1.19,<4,>=3.0.7 in /Users/mandla/anaconda3/envs/explore-df/lib/python3.9/site-packages (from streamlit>=1.44.0->explore-df) (3.1.44)\n",
      "Requirement already satisfied: pydeck<1,>=0.8.0b4 in /Users/mandla/anaconda3/envs/explore-df/lib/python3.9/site-packages (from streamlit>=1.44.0->explore-df) (0.9.1)\n",
      "Requirement already satisfied: tornado<7,>=6.0.3 in /Users/mandla/anaconda3/envs/explore-df/lib/python3.9/site-packages (from streamlit>=1.44.0->explore-df) (6.4.2)\n",
      "Requirement already satisfied: jinja2 in /Users/mandla/anaconda3/envs/explore-df/lib/python3.9/site-packages (from altair<6,>=4.0->streamlit>=1.44.0->explore-df) (3.1.6)\n",
      "Requirement already satisfied: jsonschema>=3.0 in /Users/mandla/anaconda3/envs/explore-df/lib/python3.9/site-packages (from altair<6,>=4.0->streamlit>=1.44.0->explore-df) (4.23.0)\n",
      "Requirement already satisfied: gitdb<5,>=4.0.1 in /Users/mandla/anaconda3/envs/explore-df/lib/python3.9/site-packages (from gitpython!=3.1.19,<4,>=3.0.7->streamlit>=1.44.0->explore-df) (4.0.12)\n",
      "Requirement already satisfied: zipp>=3.1.0 in /Users/mandla/anaconda3/envs/explore-df/lib/python3.9/site-packages (from importlib-resources>=3.2.0->matplotlib>=3.7.0->explore-df) (3.21.0)\n",
      "Requirement already satisfied: six>=1.5 in /Users/mandla/anaconda3/envs/explore-df/lib/python3.9/site-packages (from python-dateutil>=2.7->matplotlib>=3.7.0->explore-df) (1.17.0)\n",
      "Requirement already satisfied: smmap<6,>=3.0.1 in /Users/mandla/anaconda3/envs/explore-df/lib/python3.9/site-packages (from gitdb<5,>=4.0.1->gitpython!=3.1.19,<4,>=3.0.7->streamlit>=1.44.0->explore-df) (5.0.2)\n",
      "Requirement already satisfied: MarkupSafe>=2.0 in /Users/mandla/anaconda3/envs/explore-df/lib/python3.9/site-packages (from jinja2->altair<6,>=4.0->streamlit>=1.44.0->explore-df) (3.0.2)\n",
      "Requirement already satisfied: attrs>=22.2.0 in /Users/mandla/anaconda3/envs/explore-df/lib/python3.9/site-packages (from jsonschema>=3.0->altair<6,>=4.0->streamlit>=1.44.0->explore-df) (25.3.0)\n",
      "Requirement already satisfied: jsonschema-specifications>=2023.03.6 in /Users/mandla/anaconda3/envs/explore-df/lib/python3.9/site-packages (from jsonschema>=3.0->altair<6,>=4.0->streamlit>=1.44.0->explore-df) (2024.10.1)\n",
      "Requirement already satisfied: referencing>=0.28.4 in /Users/mandla/anaconda3/envs/explore-df/lib/python3.9/site-packages (from jsonschema>=3.0->altair<6,>=4.0->streamlit>=1.44.0->explore-df) (0.36.2)\n",
      "Requirement already satisfied: rpds-py>=0.7.1 in /Users/mandla/anaconda3/envs/explore-df/lib/python3.9/site-packages (from jsonschema>=3.0->altair<6,>=4.0->streamlit>=1.44.0->explore-df) (0.24.0)\n",
      "Downloading explore_df-0.1.13-py3-none-any.whl (75 kB)\n",
      "Installing collected packages: explore-df\n",
      "Successfully installed explore-df-0.1.13\n"
     ]
    }
   ],
   "source": [
    "!pip uninstall explore-df -y\n",
    "!pip install explore-df\n",
    "\n"
   ]
  },
  {
   "cell_type": "code",
   "execution_count": 10,
   "metadata": {},
   "outputs": [],
   "source": [
    "import pandas as pd\n",
    "import numpy as np\n",
    "from explore_df import analyze"
   ]
  },
  {
   "cell_type": "code",
   "execution_count": 11,
   "metadata": {},
   "outputs": [],
   "source": [
    "# Set random seed for reproducibility\n",
    "np.random.seed(42)\n",
    "\n",
    "# Create sample data\n",
    "n_rows = 1000\n",
    "n_cols = 10\n",
    "\n",
    "# Generate random data for different column types\n",
    "data = {\n",
    "    'id': range(n_rows),\n",
    "    'numeric_1': np.random.normal(100, 15, n_rows),\n",
    "    'numeric_2': np.random.uniform(0, 1000, n_rows),\n",
    "    'category_1': np.random.choice(['A', 'B', 'C', 'D'], n_rows),\n",
    "    'category_2': np.random.choice(['Red', 'Blue', 'Green', 'Yellow', 'Purple'], n_rows),\n",
    "    'date': pd.date_range(start='2023-01-01', periods=n_rows),\n",
    "    'boolean': np.random.choice([True, False], n_rows),\n",
    "    'integer': np.random.randint(1, 100, n_rows),\n",
    "    'text': ['Text_' + str(i) for i in range(n_rows)],\n",
    "    'percentage': np.random.uniform(0, 100, n_rows)\n",
    "}\n",
    "\n",
    "# Create DataFrame\n",
    "df = pd.DataFrame(data)\n",
    "\n",
    "# Display first few rows and basic info\n",
    "# df\n"
   ]
  },
  {
   "cell_type": "code",
   "execution_count": null,
   "metadata": {},
   "outputs": [
    {
     "name": "stdout",
     "output_type": "stream",
     "text": [
      "Starting Explore DF server..."
     ]
    },
    {
     "name": "stdout",
     "output_type": "stream",
     "text": [
      " Ready! 🚀\n",
      "\n",
      "            📊 Explore DF interface launched!\n",
      "                  \n",
      "            Stop the server by stopping this cell\n",
      "            \n",
      "            Access the interface at: http://localhost:8502\n",
      "            \n",
      "            ❓ If you close the browser window, you can always:\n",
      "               1. Copy and paste the URL above into your browser\n",
      "               2. Or run analyze(df) again to reopen the interface\n",
      "            \n"
     ]
    }
   ],
   "source": [
    "analyze(df)"
   ]
  },
  {
   "cell_type": "markdown",
   "metadata": {},
   "source": []
  }
 ],
 "metadata": {
  "kernelspec": {
   "display_name": "explore-df",
   "language": "python",
   "name": "python3"
  },
  "language_info": {
   "codemirror_mode": {
    "name": "ipython",
    "version": 3
   },
   "file_extension": ".py",
   "mimetype": "text/x-python",
   "name": "python",
   "nbconvert_exporter": "python",
   "pygments_lexer": "ipython3",
   "version": "3.9.21"
  }
 },
 "nbformat": 4,
 "nbformat_minor": 2
}
