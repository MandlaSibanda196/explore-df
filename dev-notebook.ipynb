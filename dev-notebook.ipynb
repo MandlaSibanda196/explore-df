{
 "cells": [
  {
   "cell_type": "code",
   "execution_count": 5,
   "metadata": {},
   "outputs": [
    {
     "name": "stdout",
     "output_type": "stream",
     "text": [
      "Found existing installation: explore-df 0.1.2\n",
      "Uninstalling explore-df-0.1.2:\n",
      "  Successfully uninstalled explore-df-0.1.2\n",
      "Collecting explore-df\n",
      "  Downloading explore_df-0.1.5-py3-none-any.whl.metadata (2.0 kB)\n",
      "Downloading explore_df-0.1.5-py3-none-any.whl (74 kB)\n",
      "\u001b[2K   \u001b[90m━━━━━━━━━━━━━━━━━━━━━━━━━━━━━━━━━━━━━━━━\u001b[0m \u001b[32m74.1/74.1 kB\u001b[0m \u001b[31m1.5 MB/s\u001b[0m eta \u001b[36m0:00:00\u001b[0ma \u001b[36m0:00:01\u001b[0m\n",
      "\u001b[?25hInstalling collected packages: explore-df\n",
      "Successfully installed explore-df-0.1.5\n"
     ]
    }
   ],
   "source": [
    "!pip uninstall explore-df -y\n",
    "!pip install explore-df"
   ]
  },
  {
   "cell_type": "code",
   "execution_count": 6,
   "metadata": {},
   "outputs": [],
   "source": [
    "import pandas as pd\n",
    "import numpy as np\n",
    "from explore_df import analyze"
   ]
  },
  {
   "cell_type": "code",
   "execution_count": 7,
   "metadata": {},
   "outputs": [],
   "source": [
    "# Set random seed for reproducibility\n",
    "np.random.seed(42)\n",
    "\n",
    "# Create sample data\n",
    "n_rows = 1000\n",
    "n_cols = 10\n",
    "\n",
    "# Generate random data for different column types\n",
    "data = {\n",
    "    'id': range(n_rows),\n",
    "    'numeric_1': np.random.normal(100, 15, n_rows),\n",
    "    'numeric_2': np.random.uniform(0, 1000, n_rows),\n",
    "    'category_1': np.random.choice(['A', 'B', 'C', 'D'], n_rows),\n",
    "    'category_2': np.random.choice(['Red', 'Blue', 'Green', 'Yellow', 'Purple'], n_rows),\n",
    "    'date': pd.date_range(start='2023-01-01', periods=n_rows),\n",
    "    'boolean': np.random.choice([True, False], n_rows),\n",
    "    'integer': np.random.randint(1, 100, n_rows),\n",
    "    'text': ['Text_' + str(i) for i in range(n_rows)],\n",
    "    'percentage': np.random.uniform(0, 100, n_rows)\n",
    "}\n",
    "\n",
    "# Create DataFrame\n",
    "df = pd.DataFrame(data)\n",
    "\n",
    "# Display first few rows and basic info\n",
    "# df\n"
   ]
  },
  {
   "cell_type": "code",
   "execution_count": 4,
   "metadata": {},
   "outputs": [
    {
     "name": "stdout",
     "output_type": "stream",
     "text": [
      "Starting Explore DF server... Ready! 🚀\n",
      "\n",
      "            📊 Explore DF interface launched!\n",
      "                  \n",
      "            Stop the server by stopping this cell\n",
      "            \n",
      "            Access the interface at: http://localhost:8502\n",
      "            \n",
      "            💡 Tips:\n",
      "            - Use the sidebar to navigate between different analyses\n",
      "            - The overview page shows basic dataset information\n",
      "            - Each page focuses on a specific aspect of your data\n",
      "            \n",
      "            ❓ If you close the browser window, you can always:\n",
      "               1. Copy and paste the URL above into your browser\n",
      "               2. Or run analyze(df) again to reopen the interface\n",
      "            \n"
     ]
    }
   ],
   "source": [
    "analyze(df, port=8502)"
   ]
  },
  {
   "cell_type": "markdown",
   "metadata": {},
   "source": []
  }
 ],
 "metadata": {
  "kernelspec": {
   "display_name": "dax",
   "language": "python",
   "name": "python3"
  },
  "language_info": {
   "codemirror_mode": {
    "name": "ipython",
    "version": 3
   },
   "file_extension": ".py",
   "mimetype": "text/x-python",
   "name": "python",
   "nbconvert_exporter": "python",
   "pygments_lexer": "ipython3",
   "version": "3.10.14"
  }
 },
 "nbformat": 4,
 "nbformat_minor": 2
}
